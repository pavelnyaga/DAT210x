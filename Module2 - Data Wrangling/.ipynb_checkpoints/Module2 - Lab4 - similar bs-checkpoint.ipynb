{
 "cells": [
  {
   "cell_type": "markdown",
   "metadata": {},
   "source": [
    "# DAT210x - Programming with Python for DS"
   ]
  },
  {
   "cell_type": "markdown",
   "metadata": {},
   "source": [
    "## Module2 - Lab4"
   ]
  },
  {
   "cell_type": "markdown",
   "metadata": {
    "collapsed": true
   },
   "source": [
    "Import and alias Pandas:"
   ]
  },
  {
   "cell_type": "code",
   "execution_count": 1,
   "metadata": {
    "collapsed": true
   },
   "outputs": [],
   "source": [
    "import pandas as pd"
   ]
  },
  {
   "cell_type": "markdown",
   "metadata": {},
   "source": [
    "Load up the table from the link, and extract the dataset out of it. If you're having issues with this, look carefully at the sample code provided in the reading:"
   ]
  },
  {
   "cell_type": "code",
   "execution_count": 52,
   "metadata": {},
   "outputs": [
    {
     "name": "stdout",
     "output_type": "stream",
     "text": [
      "                    PLAYER TEAM  GP   G   A  PTS  +/-  PIM  PTS/G  SOG   PCT  \\\n",
      "0           Jamie Benn, LW  DAL  82  35  52   87    1   64   1.06  253  13.8   \n",
      "1          John Tavares, C  NYI  82  38  48   86    5   46   1.05  278  13.7   \n",
      "2         Sidney Crosby, C  PIT  77  28  56   84    5   47   1.09  237  11.8   \n",
      "3        Alex Ovechkin, LW  WSH  81  53  28   81   10   58   1.00  395  13.4   \n",
      "4        Jakub Voracek, RW  PHI  82  22  59   81    1   78   0.99  221  10.0   \n",
      "5     Nicklas Backstrom, C  WSH  82  18  60   78    5   40   0.95  153  11.8   \n",
      "6          Tyler Seguin, C  DAL  71  37  40   77   -1   20   1.08  280  13.2   \n",
      "7          Jiri Hudler, LW  CGY  78  31  45   76   17   14   0.97  158  19.6   \n",
      "8         Daniel Sedin, LW  VAN  82  20  56   76    5   18   0.93  226   8.9   \n",
      "9   Vladimir Tarasenko, RW  STL  77  37  36   73   27   31   0.95  264  14.0   \n",
      "10        Nick Foligno, LW  CBJ  79  31  42   73   16   50   0.92  182  17.0   \n",
      "11       Claude Giroux, LW  PHI  81  25  48   73   -3   36   0.90  279   9.0   \n",
      "12         Henrik Sedin, C  VAN  82  18  55   73   11   22   0.89  101  17.8   \n",
      "13       Steven Stamkos, C   TB  82  43  29   72    2   49   0.88  268  16.0   \n",
      "14        Tyler Johnson, C   TB  77  29  43   72   33   24   0.94  203  14.3   \n",
      "15        Ryan Johansen, C  CBJ  82  26  45   71   -6   40   0.87  202  12.9   \n",
      "16         Joe Pavelski, C   SJ  82  37  33   70   12   29   0.85  261  14.2   \n",
      "17        Evgeni Malkin, C  PIT  69  28  42   70   -2   60   1.01  212  13.2   \n",
      "18         Ryan Getzlaf, C  ANA  77  25  45   70   15   62   0.91  191  13.1   \n",
      "19           Rick Nash, LW  NYR  79  42  27   69   29   36   0.87  304  13.8   \n",
      "20      Max Pacioretty, LW  MTL  80  37  30   67   38   32   0.84  302  12.3   \n",
      "21        Logan Couture, C   SJ  82  27  40   67   -6   12   0.82  263  10.3   \n",
      "22       Jonathan Toews, C  CHI  81  28  38   66   30   36   0.81  192  14.6   \n",
      "23        Erik Karlsson, D  OTT  82  21  45   66    7   42   0.80  292   7.2   \n",
      "24   Henrik Zetterberg, LW  DET  77  17  49   66   -6   32   0.86  227   7.5   \n",
      "25        Pavel Datsyuk, C  DET  63  26  39   65   12    8   1.03  165  15.8   \n",
      "26         Joe Thornton, C   SJ  78  16  49   65   -4   30   0.83  131  12.2   \n",
      "27     Nikita Kucherov, RW   TB  82  28  36   64   38   37   0.78  190  14.7   \n",
      "28        Patrick Kane, RW  CHI  61  27  37   64   10   10   1.05  186  14.5   \n",
      "29          Mark Stone, RW  OTT  80  26  38   64   21   14   0.80  157  16.6   \n",
      "30     Alexander Steen, LW  STL  74  24  40   64    8   33   0.86  223  10.8   \n",
      "31          Kyle Turris, C  OTT  82  24  40   64    5   36   0.78  215  11.2   \n",
      "32     Johnny Gaudreau, LW  CGY  80  24  40   64   11   14   0.80  167  14.4   \n",
      "33         Anze Kopitar, C   LA  79  16  48   64   -2   10   0.81  134  11.9   \n",
      "34        Radim Vrbata, RW  VAN  79  31  32   63    6   20   0.80  267  11.6   \n",
      "35      Jaden Schwartz, LW  STL  75  28  35   63   13   16   0.84  184  15.2   \n",
      "36      Filip Forsberg, LW  NSH  82  26  37   63   15   24   0.77  237  11.0   \n",
      "37       Jordan Eberle, RW  EDM  81  24  39   63  -16   24   0.78  183  13.1   \n",
      "38        Ondrej Palat, LW   TB  75  16  47   63   31   24   0.84  139  11.5   \n",
      "39         Zach Parise, LW  MIN  74  33  29   62   21   41   0.84  259  12.7   \n",
      "\n",
      "    GWG  PP_G  PP_A  SH_G  SH_A  \n",
      "0     6    10    13     2     3  \n",
      "1     8    13    18     0     1  \n",
      "2     3    10    21     0     0  \n",
      "3    11    25     9     0     0  \n",
      "4     3    11    22     0     0  \n",
      "5     3     3    30     0     0  \n",
      "6     5    13    16     0     0  \n",
      "7     5     6    10     0     0  \n",
      "8     5     4    21     0     0  \n",
      "9     6     8    10     0     0  \n",
      "10    3    11    15     0     0  \n",
      "11    4    14    23     0     0  \n",
      "12    0     5    20     0     0  \n",
      "13    6    13    12     0     0  \n",
      "14    6     8     9     0     0  \n",
      "15    0     7    19     2     0  \n",
      "16    5    19    12     0     0  \n",
      "17    4     9    17     0     0  \n",
      "18    6     3    10     0     2  \n",
      "19    8     6     6     4     1  \n",
      "20   10     7     4     3     2  \n",
      "21    4     6    18     2     0  \n",
      "22    7     6    11     2     1  \n",
      "23    3     6    24     0     0  \n",
      "24    3     4    24     0     0  \n",
      "25    5     8    16     0     0  \n",
      "26    0     4    18     0     0  \n",
      "27    2     2    13     0     0  \n",
      "28    5     6    16     0     0  \n",
      "29    6     5     8     1     0  \n",
      "30    5     8    16     0     0  \n",
      "31    6     4    12     1     0  \n",
      "32    4     8    13     0     0  \n",
      "33    4     6    18     0     0  \n",
      "34    7    12    11     0     0  \n",
      "35    4     8     8     0     2  \n",
      "36    6     6    13     0     0  \n",
      "37    2     6    15     0     0  \n",
      "38    5     3     8     1     1  \n",
      "39    3    11     5     0     0  \n"
     ]
    },
    {
     "data": {
      "text/plain": [
       "PLAYER     object\n",
       "TEAM       object\n",
       "GP          int64\n",
       "G           int64\n",
       "A           int64\n",
       "PTS         int64\n",
       "+/-         int64\n",
       "PIM         int64\n",
       "PTS/G     float64\n",
       "SOG         int64\n",
       "PCT       float64\n",
       "GWG         int64\n",
       "PP_G        int64\n",
       "PP_A        int64\n",
       "SH_G        int64\n",
       "SH_A        int64\n",
       "dtype: object"
      ]
     },
     "execution_count": 52,
     "metadata": {},
     "output_type": "execute_result"
    }
   ],
   "source": [
    "df = pd.read_html('http://www.espn.com/nhl/statistics/player/_/stat/points/sort/points/year/2015/seasontype/2', skiprows=1,\\\n",
    "                  header = 0)[0]\n",
    "names = ['RK', 'PLAYER', 'TEAM', 'GP', 'G', 'A', 'PTS', '+/-', 'PIM', 'PTS/G', 'SOG', 'PCT', 'GWG', 'PP_G',\\\n",
    "                          'PP_A', 'SH_G', 'SH_A']\n",
    "df.columns = names\n",
    "df = df.drop(df.index[[10,11,22,23,34,35]])\n",
    "df = df.reset_index()\n",
    "del df['index'], df['RK']\n",
    "df = df.apply(pd.to_numeric, errors='ignore')\n",
    "print(df)\n",
    "df.dtypes"
   ]
  },
  {
   "cell_type": "code",
   "execution_count": 59,
   "metadata": {},
   "outputs": [
    {
     "data": {
      "text/plain": [
       "36"
      ]
     },
     "execution_count": 59,
     "metadata": {},
     "output_type": "execute_result"
    }
   ],
   "source": [
    "len(df.PCT.unique())"
   ]
  },
  {
   "cell_type": "code",
   "execution_count": 56,
   "metadata": {},
   "outputs": [
    {
     "name": "stdout",
     "output_type": "stream",
     "text": [
      "164\n"
     ]
    }
   ],
   "source": [
    "print(df.loc[15,'GP']+df.loc[16,'GP'])"
   ]
  },
  {
   "cell_type": "code",
   "execution_count": null,
   "metadata": {
    "collapsed": true
   },
   "outputs": [],
   "source": []
  }
 ],
 "metadata": {
  "anaconda-cloud": {},
  "kernelspec": {
   "display_name": "Python 3",
   "language": "python",
   "name": "python3"
  },
  "language_info": {
   "codemirror_mode": {
    "name": "ipython",
    "version": 3
   },
   "file_extension": ".py",
   "mimetype": "text/x-python",
   "name": "python",
   "nbconvert_exporter": "python",
   "pygments_lexer": "ipython3",
   "version": "3.6.5"
  },
  "toc": {
   "colors": {
    "hover_highlight": "#DAA520",
    "running_highlight": "#FF0000",
    "selected_highlight": "#FFD700"
   },
   "moveMenuLeft": true,
   "nav_menu": {
    "height": "58px",
    "width": "251px"
   },
   "navigate_menu": true,
   "number_sections": true,
   "sideBar": true,
   "threshold": 4,
   "toc_cell": false,
   "toc_section_display": "block",
   "toc_window_display": false,
   "widenNotebook": false
  }
 },
 "nbformat": 4,
 "nbformat_minor": 2
}
