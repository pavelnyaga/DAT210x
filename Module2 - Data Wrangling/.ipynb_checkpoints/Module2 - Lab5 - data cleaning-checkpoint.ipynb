{
 "cells": [
  {
   "cell_type": "markdown",
   "metadata": {},
   "source": [
    "# DAT210x - Programming with Python for DS"
   ]
  },
  {
   "cell_type": "markdown",
   "metadata": {},
   "source": [
    "## Module2 - Lab5"
   ]
  },
  {
   "cell_type": "markdown",
   "metadata": {
    "collapsed": true
   },
   "source": [
    "Import and alias Pandas:"
   ]
  },
  {
   "cell_type": "code",
   "execution_count": 92,
   "metadata": {
    "collapsed": true
   },
   "outputs": [],
   "source": [
    "import pandas as pd"
   ]
  },
  {
   "cell_type": "markdown",
   "metadata": {},
   "source": [
    "As per usual, load up the specified dataset, setting appropriate header labels."
   ]
  },
  {
   "cell_type": "code",
   "execution_count": 93,
   "metadata": {},
   "outputs": [
    {
     "name": "stdout",
     "output_type": "stream",
     "text": [
      "          education  age capital_gain                race  capital_loss  \\\n",
      "0         Bachelors   39         2174               White             0   \n",
      "1         Bachelors   50            ?               White             0   \n",
      "2           HS-grad   38            ?               White             0   \n",
      "3              11th   53            ?               Black             0   \n",
      "4         Bachelors   28            0               Black             0   \n",
      "5           Masters   37            0               White             0   \n",
      "6               9th   49            0               Black             0   \n",
      "7           HS-grad   52            0               White             0   \n",
      "8           Masters   31        14084               White             0   \n",
      "9         Bachelors   42         5178               White             0   \n",
      "10     Some-college   37            0               Black             0   \n",
      "11        Bachelors   30            0  Asian-Pac-Islander             0   \n",
      "12        Bachelors   23            0               White             0   \n",
      "13          7th-8th   34            0  Amer-Indian-Eskimo             0   \n",
      "14          HS-grad   25            0               White             0   \n",
      "15          HS-grad   32            0               White             0   \n",
      "16             11th   38            0               White             0   \n",
      "17          Masters   43            0               White             0   \n",
      "18        Doctorate   40            0               White             0   \n",
      "19          HS-grad   54            0               Black             0   \n",
      "20              9th   35            0               Black             0   \n",
      "21             11th   43            0               White          2042   \n",
      "22          HS-grad   59            0               White             0   \n",
      "23        Bachelors   56            0               White             0   \n",
      "24          HS-grad   19            0               White             0   \n",
      "25     Some-college   54            0  Asian-Pac-Islander             0   \n",
      "26          HS-grad   39            0               White             0   \n",
      "27          HS-grad   49            0               White             0   \n",
      "28     Some-college   20            0               Black             0   \n",
      "29        Bachelors   45            0               White          1408   \n",
      "...             ...  ...          ...                 ...           ...   \n",
      "29506       HS-grad   30            0               White             0   \n",
      "29507          10th   32            0               White             0   \n",
      "29508  Some-college   22            0               White             0   \n",
      "29509       HS-grad   31            0               White             0   \n",
      "29510       HS-grad   29            0               White             0   \n",
      "29511     Bachelors   35            0               White             0   \n",
      "29512     Bachelors   30            0  Asian-Pac-Islander             0   \n",
      "29513     Doctorate   34            0               White             0   \n",
      "29514     Bachelors   54            0  Asian-Pac-Islander             0   \n",
      "29515  Some-college   37            0               White             0   \n",
      "29516          12th   22            0               Black             0   \n",
      "29517     Bachelors   34            0               White             0   \n",
      "29518       HS-grad   30            0               Black             0   \n",
      "29519     Bachelors   38        15020               Black             0   \n",
      "29520     Doctorate   71            0               White             0   \n",
      "29521       HS-grad   45            0               White             0   \n",
      "29522       HS-grad   41            0               Black             0   \n",
      "29523       HS-grad   72            0               White             0   \n",
      "29524       Masters   31            0               Other             0   \n",
      "29525       HS-grad   43            0               White             0   \n",
      "29526  Some-college   43            0               White             0   \n",
      "29527  Some-college   43            0               White             0   \n",
      "29528          10th   32            0  Amer-Indian-Eskimo             0   \n",
      "29529       Masters   32            0  Asian-Pac-Islander             0   \n",
      "29530       Masters   53            0               White             0   \n",
      "29531  Some-college   22            0               White             0   \n",
      "29532       HS-grad   40            0               White             0   \n",
      "29533       HS-grad   58            0               White             0   \n",
      "29534       HS-grad   22            0               White             0   \n",
      "29535       HS-grad   52        15024               White             0   \n",
      "\n",
      "       hours-per-week     sex classification  \n",
      "0                  40    Male          <=50K  \n",
      "1                  13    Male          <=50K  \n",
      "2                  40    Male          <=50K  \n",
      "3                  40    Male          <=50K  \n",
      "4                  40  Female          <=50K  \n",
      "5                  40  Female          <=50K  \n",
      "6                  16  Female          <=50K  \n",
      "7                  45    Male           >50K  \n",
      "8                  50  Female           >50K  \n",
      "9                  40    Male           >50K  \n",
      "10                 80    Male           >50K  \n",
      "11                 40    Male           >50K  \n",
      "12                 30  Female          <=50K  \n",
      "13                 45    Male          <=50K  \n",
      "14                 35    Male          <=50K  \n",
      "15                 40    Male          <=50K  \n",
      "16                 50    Male          <=50K  \n",
      "17                 45  Female           >50K  \n",
      "18                 60    Male           >50K  \n",
      "19                 20  Female          <=50K  \n",
      "20                 40    Male          <=50K  \n",
      "21                 40    Male          <=50K  \n",
      "22                 40  Female          <=50K  \n",
      "23                 40    Male           >50K  \n",
      "24                 40    Male          <=50K  \n",
      "25                 60    Male           >50K  \n",
      "26                 80    Male          <=50K  \n",
      "27                 40    Male          <=50K  \n",
      "28                 44    Male          <=50K  \n",
      "29                 40    Male          <=50K  \n",
      "...               ...     ...            ...  \n",
      "29506              55    Male          <=50K  \n",
      "29507              40    Male          <=50K  \n",
      "29508              40    Male          <=50K  \n",
      "29509              40  Female          <=50K  \n",
      "29510              35  Female          <=50K  \n",
      "29511              55  Female           >50K  \n",
      "29512              99  Female          <=50K  \n",
      "29513              60    Male           >50K  \n",
      "29514              50    Male           >50K  \n",
      "29515              39  Female          <=50K  \n",
      "29516              35    Male          <=50K  \n",
      "29517              55  Female           >50K  \n",
      "29518              46    Male          <=50K  \n",
      "29519              45  Female           >50K  \n",
      "29520              10    Male           >50K  \n",
      "29521              40  Female          <=50K  \n",
      "29522              32  Female          <=50K  \n",
      "29523              25    Male          <=50K  \n",
      "29524              30  Female          <=50K  \n",
      "29525              40    Male          <=50K  \n",
      "29526              40  Female          <=50K  \n",
      "29527              50    Male          <=50K  \n",
      "29528              40    Male          <=50K  \n",
      "29529              11    Male          <=50K  \n",
      "29530              40    Male           >50K  \n",
      "29531              40    Male          <=50K  \n",
      "29532              40    Male           >50K  \n",
      "29533              40  Female          <=50K  \n",
      "29534              20    Male          <=50K  \n",
      "29535              40  Female           >50K  \n",
      "\n",
      "[29536 rows x 8 columns]\n"
     ]
    }
   ],
   "source": [
    "df = pd.read_csv('Datasets/census.data', sep=',', names = ['education', 'age', 'capital_gain', 'race', \\\n",
    "                                                           'capital_loss', 'hours-per-week', 'sex', 'classification'])\n",
    "print(df)"
   ]
  },
  {
   "cell_type": "markdown",
   "metadata": {},
   "source": [
    "Excellent.\n",
    "\n",
    "Now, use basic pandas commands to look through the dataset. Get a feel for it before proceeding!\n",
    "\n",
    "Do the data-types of each column reflect the values you see when you look through the data using a text editor / spread sheet program? If you see `object` where you expect to see `int32` or `float64`, that is a good indicator that there might be a string or missing value or erroneous value in the column."
   ]
  },
  {
   "cell_type": "code",
   "execution_count": 94,
   "metadata": {},
   "outputs": [
    {
     "name": "stdout",
     "output_type": "stream",
     "text": [
      "education         object\n",
      "age                int64\n",
      "capital_gain      object\n",
      "race              object\n",
      "capital_loss       int64\n",
      "hours-per-week     int64\n",
      "sex               object\n",
      "classification    object\n",
      "dtype: object\n"
     ]
    },
    {
     "data": {
      "text/html": [
       "<div>\n",
       "<style>\n",
       "    .dataframe thead tr:only-child th {\n",
       "        text-align: right;\n",
       "    }\n",
       "\n",
       "    .dataframe thead th {\n",
       "        text-align: left;\n",
       "    }\n",
       "\n",
       "    .dataframe tbody tr th {\n",
       "        vertical-align: top;\n",
       "    }\n",
       "</style>\n",
       "<table border=\"1\" class=\"dataframe\">\n",
       "  <thead>\n",
       "    <tr style=\"text-align: right;\">\n",
       "      <th></th>\n",
       "      <th>education</th>\n",
       "      <th>age</th>\n",
       "      <th>capital_gain</th>\n",
       "      <th>race</th>\n",
       "      <th>capital_loss</th>\n",
       "      <th>hours-per-week</th>\n",
       "      <th>sex</th>\n",
       "      <th>classification</th>\n",
       "    </tr>\n",
       "  </thead>\n",
       "  <tbody>\n",
       "    <tr>\n",
       "      <th>0</th>\n",
       "      <td>Bachelors</td>\n",
       "      <td>39</td>\n",
       "      <td>2174</td>\n",
       "      <td>White</td>\n",
       "      <td>0</td>\n",
       "      <td>40</td>\n",
       "      <td>Male</td>\n",
       "      <td>&lt;=50K</td>\n",
       "    </tr>\n",
       "    <tr>\n",
       "      <th>1</th>\n",
       "      <td>Bachelors</td>\n",
       "      <td>50</td>\n",
       "      <td>?</td>\n",
       "      <td>White</td>\n",
       "      <td>0</td>\n",
       "      <td>13</td>\n",
       "      <td>Male</td>\n",
       "      <td>&lt;=50K</td>\n",
       "    </tr>\n",
       "    <tr>\n",
       "      <th>2</th>\n",
       "      <td>HS-grad</td>\n",
       "      <td>38</td>\n",
       "      <td>?</td>\n",
       "      <td>White</td>\n",
       "      <td>0</td>\n",
       "      <td>40</td>\n",
       "      <td>Male</td>\n",
       "      <td>&lt;=50K</td>\n",
       "    </tr>\n",
       "    <tr>\n",
       "      <th>3</th>\n",
       "      <td>11th</td>\n",
       "      <td>53</td>\n",
       "      <td>?</td>\n",
       "      <td>Black</td>\n",
       "      <td>0</td>\n",
       "      <td>40</td>\n",
       "      <td>Male</td>\n",
       "      <td>&lt;=50K</td>\n",
       "    </tr>\n",
       "    <tr>\n",
       "      <th>4</th>\n",
       "      <td>Bachelors</td>\n",
       "      <td>28</td>\n",
       "      <td>0</td>\n",
       "      <td>Black</td>\n",
       "      <td>0</td>\n",
       "      <td>40</td>\n",
       "      <td>Female</td>\n",
       "      <td>&lt;=50K</td>\n",
       "    </tr>\n",
       "    <tr>\n",
       "      <th>5</th>\n",
       "      <td>Masters</td>\n",
       "      <td>37</td>\n",
       "      <td>0</td>\n",
       "      <td>White</td>\n",
       "      <td>0</td>\n",
       "      <td>40</td>\n",
       "      <td>Female</td>\n",
       "      <td>&lt;=50K</td>\n",
       "    </tr>\n",
       "  </tbody>\n",
       "</table>\n",
       "</div>"
      ],
      "text/plain": [
       "   education  age capital_gain   race  capital_loss  hours-per-week     sex  \\\n",
       "0  Bachelors   39         2174  White             0              40    Male   \n",
       "1  Bachelors   50            ?  White             0              13    Male   \n",
       "2    HS-grad   38            ?  White             0              40    Male   \n",
       "3       11th   53            ?  Black             0              40    Male   \n",
       "4  Bachelors   28            0  Black             0              40  Female   \n",
       "5    Masters   37            0  White             0              40  Female   \n",
       "\n",
       "  classification  \n",
       "0          <=50K  \n",
       "1          <=50K  \n",
       "2          <=50K  \n",
       "3          <=50K  \n",
       "4          <=50K  \n",
       "5          <=50K  "
      ]
     },
     "execution_count": 94,
     "metadata": {},
     "output_type": "execute_result"
    }
   ],
   "source": [
    "print(df.dtypes)\n",
    "df.head(6)"
   ]
  },
  {
   "cell_type": "markdown",
   "metadata": {},
   "source": [
    "Try use `your_data_frame['your_column'].unique()` or equally, `your_data_frame.your_column.unique()` to see the unique values of each column and identify the rogue values.\n",
    "\n",
    "If you find any value that should be properly encoded to NaNs, you can convert them either using the `na_values` parameter when loading the dataframe. Or alternatively, use one of the other methods discussed in the reading."
   ]
  },
  {
   "cell_type": "code",
   "execution_count": 95,
   "metadata": {},
   "outputs": [
    {
     "data": {
      "text/plain": [
       "array(['2174', '?', '0', '14084', '5178', '5013', '2407', '14344', '15024',\n",
       "       '7688', '34095', '4064', '4386', '7298', '1409', '3674', '1055',\n",
       "       '3464', '2050', '2176', '594', '6849', '4101', '1111', '3411',\n",
       "       '2597', '25236', '4650', '9386', '2463', '3103', '10605', '2964',\n",
       "       '3325', '2580', '3471', '4865', '6514', '1471', '2329', '99999',\n",
       "       '20051', '2105', '2885', '25124', '10520', '2202', '2961', '27828',\n",
       "       '6767', '8614', '2228', '1506', '13550', '2635', '5556', '4787',\n",
       "       '3781', '3137', '3818', '3942', '914', '401', '2829', '2977',\n",
       "       '4934', '2062', '15020', '1424', '3273', '22040', '4416', '10566',\n",
       "       '991', '4931', '1086', '7430', '6497', '114', '7896', '2346',\n",
       "       '3432', '2907', '1151', '2414', '2290', '3418', '15831', '41310',\n",
       "       '4508', '5455', '2538', '3456', '3908', '1848', '3887', '5721',\n",
       "       '9562', '6418', '1455', '2036', '1831', '11678', '2936', '2993',\n",
       "       '7443', '6360', '2354', '1797', '1173', '4687', '2009', '6097',\n",
       "       '2653', '18481', '7978', '2387', '6723', '5060'], dtype=object)"
      ]
     },
     "execution_count": 95,
     "metadata": {},
     "output_type": "execute_result"
    }
   ],
   "source": [
    "df['capital_gain'].unique() "
   ]
  },
  {
   "cell_type": "markdown",
   "metadata": {},
   "source": [
    "Look through your data and identify any potential categorical features. Ensure you properly encode any ordinal and nominal types using the methods discussed in the chapter.\n",
    "\n",
    "Be careful! Some features can be represented as either categorical or continuous (numerical). If you ever get confused, think to yourself what makes more sense generally---to represent such features with a continuous numeric type... or a series of categories?"
   ]
  },
  {
   "cell_type": "code",
   "execution_count": 96,
   "metadata": {},
   "outputs": [
    {
     "name": "stdout",
     "output_type": "stream",
     "text": [
      "          education  age  capital_gain                race  capital_loss  \\\n",
      "0         Bachelors   39        2174.0               White             0   \n",
      "1         Bachelors   50           0.0               White             0   \n",
      "2           HS-grad   38           0.0               White             0   \n",
      "3              11th   53           0.0               Black             0   \n",
      "4         Bachelors   28           0.0               Black             0   \n",
      "5           Masters   37           0.0               White             0   \n",
      "6               9th   49           0.0               Black             0   \n",
      "7           HS-grad   52           0.0               White             0   \n",
      "8           Masters   31       14084.0               White             0   \n",
      "9         Bachelors   42        5178.0               White             0   \n",
      "10     Some-college   37           0.0               Black             0   \n",
      "11        Bachelors   30           0.0  Asian-Pac-Islander             0   \n",
      "12        Bachelors   23           0.0               White             0   \n",
      "13          7th-8th   34           0.0  Amer-Indian-Eskimo             0   \n",
      "14          HS-grad   25           0.0               White             0   \n",
      "15          HS-grad   32           0.0               White             0   \n",
      "16             11th   38           0.0               White             0   \n",
      "17          Masters   43           0.0               White             0   \n",
      "18        Doctorate   40           0.0               White             0   \n",
      "19          HS-grad   54           0.0               Black             0   \n",
      "20              9th   35           0.0               Black             0   \n",
      "21             11th   43           0.0               White          2042   \n",
      "22          HS-grad   59           0.0               White             0   \n",
      "23        Bachelors   56           0.0               White             0   \n",
      "24          HS-grad   19           0.0               White             0   \n",
      "25     Some-college   54           0.0  Asian-Pac-Islander             0   \n",
      "26          HS-grad   39           0.0               White             0   \n",
      "27          HS-grad   49           0.0               White             0   \n",
      "28     Some-college   20           0.0               Black             0   \n",
      "29        Bachelors   45           0.0               White          1408   \n",
      "...             ...  ...           ...                 ...           ...   \n",
      "29506       HS-grad   30           0.0               White             0   \n",
      "29507          10th   32           0.0               White             0   \n",
      "29508  Some-college   22           0.0               White             0   \n",
      "29509       HS-grad   31           0.0               White             0   \n",
      "29510       HS-grad   29           0.0               White             0   \n",
      "29511     Bachelors   35           0.0               White             0   \n",
      "29512     Bachelors   30           0.0  Asian-Pac-Islander             0   \n",
      "29513     Doctorate   34           0.0               White             0   \n",
      "29514     Bachelors   54           0.0  Asian-Pac-Islander             0   \n",
      "29515  Some-college   37           0.0               White             0   \n",
      "29516          12th   22           0.0               Black             0   \n",
      "29517     Bachelors   34           0.0               White             0   \n",
      "29518       HS-grad   30           0.0               Black             0   \n",
      "29519     Bachelors   38       15020.0               Black             0   \n",
      "29520     Doctorate   71           0.0               White             0   \n",
      "29521       HS-grad   45           0.0               White             0   \n",
      "29522       HS-grad   41           0.0               Black             0   \n",
      "29523       HS-grad   72           0.0               White             0   \n",
      "29524       Masters   31           0.0               Other             0   \n",
      "29525       HS-grad   43           0.0               White             0   \n",
      "29526  Some-college   43           0.0               White             0   \n",
      "29527  Some-college   43           0.0               White             0   \n",
      "29528          10th   32           0.0  Amer-Indian-Eskimo             0   \n",
      "29529       Masters   32           0.0  Asian-Pac-Islander             0   \n",
      "29530       Masters   53           0.0               White             0   \n",
      "29531  Some-college   22           0.0               White             0   \n",
      "29532       HS-grad   40           0.0               White             0   \n",
      "29533       HS-grad   58           0.0               White             0   \n",
      "29534       HS-grad   22           0.0               White             0   \n",
      "29535       HS-grad   52       15024.0               White             0   \n",
      "\n",
      "       hours-per-week     sex classification  \n",
      "0                  40    Male          <=50K  \n",
      "1                  13    Male          <=50K  \n",
      "2                  40    Male          <=50K  \n",
      "3                  40    Male          <=50K  \n",
      "4                  40  Female          <=50K  \n",
      "5                  40  Female          <=50K  \n",
      "6                  16  Female          <=50K  \n",
      "7                  45    Male           >50K  \n",
      "8                  50  Female           >50K  \n",
      "9                  40    Male           >50K  \n",
      "10                 80    Male           >50K  \n",
      "11                 40    Male           >50K  \n",
      "12                 30  Female          <=50K  \n",
      "13                 45    Male          <=50K  \n",
      "14                 35    Male          <=50K  \n",
      "15                 40    Male          <=50K  \n",
      "16                 50    Male          <=50K  \n",
      "17                 45  Female           >50K  \n",
      "18                 60    Male           >50K  \n",
      "19                 20  Female          <=50K  \n",
      "20                 40    Male          <=50K  \n",
      "21                 40    Male          <=50K  \n",
      "22                 40  Female          <=50K  \n",
      "23                 40    Male           >50K  \n",
      "24                 40    Male          <=50K  \n",
      "25                 60    Male           >50K  \n",
      "26                 80    Male          <=50K  \n",
      "27                 40    Male          <=50K  \n",
      "28                 44    Male          <=50K  \n",
      "29                 40    Male          <=50K  \n",
      "...               ...     ...            ...  \n",
      "29506              55    Male          <=50K  \n",
      "29507              40    Male          <=50K  \n",
      "29508              40    Male          <=50K  \n",
      "29509              40  Female          <=50K  \n",
      "29510              35  Female          <=50K  \n",
      "29511              55  Female           >50K  \n",
      "29512              99  Female          <=50K  \n",
      "29513              60    Male           >50K  \n",
      "29514              50    Male           >50K  \n",
      "29515              39  Female          <=50K  \n",
      "29516              35    Male          <=50K  \n",
      "29517              55  Female           >50K  \n",
      "29518              46    Male          <=50K  \n",
      "29519              45  Female           >50K  \n",
      "29520              10    Male           >50K  \n",
      "29521              40  Female          <=50K  \n",
      "29522              32  Female          <=50K  \n",
      "29523              25    Male          <=50K  \n",
      "29524              30  Female          <=50K  \n",
      "29525              40    Male          <=50K  \n",
      "29526              40  Female          <=50K  \n",
      "29527              50    Male          <=50K  \n",
      "29528              40    Male          <=50K  \n",
      "29529              11    Male          <=50K  \n",
      "29530              40    Male           >50K  \n",
      "29531              40    Male          <=50K  \n",
      "29532              40    Male           >50K  \n",
      "29533              40  Female          <=50K  \n",
      "29534              20    Male          <=50K  \n",
      "29535              40  Female           >50K  \n",
      "\n",
      "[29536 rows x 8 columns]\n"
     ]
    }
   ],
   "source": [
    "df['capital_gain'] = pd.to_numeric(df.capital_gain, errors='coerce')\n",
    "df['capital_gain'] = df.capital_gain.fillna(0)\n",
    "print(df)"
   ]
  },
  {
   "cell_type": "markdown",
   "metadata": {},
   "source": [
    "Lastly, print out your dataframe!"
   ]
  },
  {
   "cell_type": "code",
   "execution_count": 97,
   "metadata": {},
   "outputs": [
    {
     "name": "stdout",
     "output_type": "stream",
     "text": [
      "education          object\n",
      "age                 int64\n",
      "capital_gain      float64\n",
      "race               object\n",
      "capital_loss        int64\n",
      "hours-per-week      int64\n",
      "sex                object\n",
      "classification     object\n",
      "dtype: object\n"
     ]
    }
   ],
   "source": [
    "print(df.dtypes)"
   ]
  },
  {
   "cell_type": "code",
   "execution_count": 98,
   "metadata": {},
   "outputs": [
    {
     "data": {
      "text/plain": [
       "array(['Bachelors', 'HS-grad', '11th', 'Masters', '9th', 'Some-college',\n",
       "       '7th-8th', 'Doctorate', '5th-6th', '10th', '1st-4th', 'Preschool',\n",
       "       '12th'], dtype=object)"
      ]
     },
     "execution_count": 98,
     "metadata": {},
     "output_type": "execute_result"
    }
   ],
   "source": [
    "df['education'].unique() "
   ]
  },
  {
   "cell_type": "code",
   "execution_count": 99,
   "metadata": {},
   "outputs": [],
   "source": [
    "ordered_edu = ['Preschool','1st-4th', '5th-6th','7th-8th','9th','10th','11th','12th','HS-grad','Some-college','Bachelors', \\\n",
    "               'Masters', 'Doctorate']\n",
    "df.education = df.education.astype(\"category\",\n",
    "      ordered=True,\n",
    "      categories=ordered_edu).cat.codes"
   ]
  },
  {
   "cell_type": "code",
   "execution_count": 100,
   "metadata": {},
   "outputs": [
    {
     "data": {
      "text/plain": [
       "array(['<=50K', '>50K'], dtype=object)"
      ]
     },
     "execution_count": 100,
     "metadata": {},
     "output_type": "execute_result"
    }
   ],
   "source": [
    "df['classification'].unique() "
   ]
  },
  {
   "cell_type": "code",
   "execution_count": 101,
   "metadata": {},
   "outputs": [],
   "source": [
    "ordered_class = ['<=50K', '>50K']\n",
    "df.classification= df.classification.astype(\"category\",\n",
    "      ordered=True,\n",
    "      categories=ordered_class).cat.codes"
   ]
  },
  {
   "cell_type": "code",
   "execution_count": 102,
   "metadata": {},
   "outputs": [],
   "source": [
    "#df = pd.get_dummies(df,columns=['sex'])\n",
    "#df = pd.get_dummies(df,columns=['race'])"
   ]
  },
  {
   "cell_type": "code",
   "execution_count": 103,
   "metadata": {},
   "outputs": [],
   "source": [
    "#df.head(10)"
   ]
  },
  {
   "cell_type": "code",
   "execution_count": 105,
   "metadata": {
    "collapsed": true
   },
   "outputs": [],
   "source": [
    "df.race = df.race.astype(\"category\").cat.codes\n",
    "df.sex = df.sex.astype(\"category\").cat.codes"
   ]
  },
  {
   "cell_type": "code",
   "execution_count": 106,
   "metadata": {},
   "outputs": [
    {
     "data": {
      "text/html": [
       "<div>\n",
       "<style>\n",
       "    .dataframe thead tr:only-child th {\n",
       "        text-align: right;\n",
       "    }\n",
       "\n",
       "    .dataframe thead th {\n",
       "        text-align: left;\n",
       "    }\n",
       "\n",
       "    .dataframe tbody tr th {\n",
       "        vertical-align: top;\n",
       "    }\n",
       "</style>\n",
       "<table border=\"1\" class=\"dataframe\">\n",
       "  <thead>\n",
       "    <tr style=\"text-align: right;\">\n",
       "      <th></th>\n",
       "      <th>education</th>\n",
       "      <th>age</th>\n",
       "      <th>capital_gain</th>\n",
       "      <th>race</th>\n",
       "      <th>capital_loss</th>\n",
       "      <th>hours-per-week</th>\n",
       "      <th>sex</th>\n",
       "      <th>classification</th>\n",
       "    </tr>\n",
       "  </thead>\n",
       "  <tbody>\n",
       "    <tr>\n",
       "      <th>0</th>\n",
       "      <td>10</td>\n",
       "      <td>39</td>\n",
       "      <td>2174.0</td>\n",
       "      <td>4</td>\n",
       "      <td>0</td>\n",
       "      <td>40</td>\n",
       "      <td>1</td>\n",
       "      <td>0</td>\n",
       "    </tr>\n",
       "    <tr>\n",
       "      <th>1</th>\n",
       "      <td>10</td>\n",
       "      <td>50</td>\n",
       "      <td>0.0</td>\n",
       "      <td>4</td>\n",
       "      <td>0</td>\n",
       "      <td>13</td>\n",
       "      <td>1</td>\n",
       "      <td>0</td>\n",
       "    </tr>\n",
       "    <tr>\n",
       "      <th>2</th>\n",
       "      <td>8</td>\n",
       "      <td>38</td>\n",
       "      <td>0.0</td>\n",
       "      <td>4</td>\n",
       "      <td>0</td>\n",
       "      <td>40</td>\n",
       "      <td>1</td>\n",
       "      <td>0</td>\n",
       "    </tr>\n",
       "    <tr>\n",
       "      <th>3</th>\n",
       "      <td>6</td>\n",
       "      <td>53</td>\n",
       "      <td>0.0</td>\n",
       "      <td>2</td>\n",
       "      <td>0</td>\n",
       "      <td>40</td>\n",
       "      <td>1</td>\n",
       "      <td>0</td>\n",
       "    </tr>\n",
       "    <tr>\n",
       "      <th>4</th>\n",
       "      <td>10</td>\n",
       "      <td>28</td>\n",
       "      <td>0.0</td>\n",
       "      <td>2</td>\n",
       "      <td>0</td>\n",
       "      <td>40</td>\n",
       "      <td>0</td>\n",
       "      <td>0</td>\n",
       "    </tr>\n",
       "    <tr>\n",
       "      <th>5</th>\n",
       "      <td>11</td>\n",
       "      <td>37</td>\n",
       "      <td>0.0</td>\n",
       "      <td>4</td>\n",
       "      <td>0</td>\n",
       "      <td>40</td>\n",
       "      <td>0</td>\n",
       "      <td>0</td>\n",
       "    </tr>\n",
       "    <tr>\n",
       "      <th>6</th>\n",
       "      <td>4</td>\n",
       "      <td>49</td>\n",
       "      <td>0.0</td>\n",
       "      <td>2</td>\n",
       "      <td>0</td>\n",
       "      <td>16</td>\n",
       "      <td>0</td>\n",
       "      <td>0</td>\n",
       "    </tr>\n",
       "    <tr>\n",
       "      <th>7</th>\n",
       "      <td>8</td>\n",
       "      <td>52</td>\n",
       "      <td>0.0</td>\n",
       "      <td>4</td>\n",
       "      <td>0</td>\n",
       "      <td>45</td>\n",
       "      <td>1</td>\n",
       "      <td>1</td>\n",
       "    </tr>\n",
       "    <tr>\n",
       "      <th>8</th>\n",
       "      <td>11</td>\n",
       "      <td>31</td>\n",
       "      <td>14084.0</td>\n",
       "      <td>4</td>\n",
       "      <td>0</td>\n",
       "      <td>50</td>\n",
       "      <td>0</td>\n",
       "      <td>1</td>\n",
       "    </tr>\n",
       "    <tr>\n",
       "      <th>9</th>\n",
       "      <td>10</td>\n",
       "      <td>42</td>\n",
       "      <td>5178.0</td>\n",
       "      <td>4</td>\n",
       "      <td>0</td>\n",
       "      <td>40</td>\n",
       "      <td>1</td>\n",
       "      <td>1</td>\n",
       "    </tr>\n",
       "  </tbody>\n",
       "</table>\n",
       "</div>"
      ],
      "text/plain": [
       "   education  age  capital_gain  race  capital_loss  hours-per-week  sex  \\\n",
       "0         10   39        2174.0     4             0              40    1   \n",
       "1         10   50           0.0     4             0              13    1   \n",
       "2          8   38           0.0     4             0              40    1   \n",
       "3          6   53           0.0     2             0              40    1   \n",
       "4         10   28           0.0     2             0              40    0   \n",
       "5         11   37           0.0     4             0              40    0   \n",
       "6          4   49           0.0     2             0              16    0   \n",
       "7          8   52           0.0     4             0              45    1   \n",
       "8         11   31       14084.0     4             0              50    0   \n",
       "9         10   42        5178.0     4             0              40    1   \n",
       "\n",
       "   classification  \n",
       "0               0  \n",
       "1               0  \n",
       "2               0  \n",
       "3               0  \n",
       "4               0  \n",
       "5               0  \n",
       "6               0  \n",
       "7               1  \n",
       "8               1  \n",
       "9               1  "
      ]
     },
     "execution_count": 106,
     "metadata": {},
     "output_type": "execute_result"
    }
   ],
   "source": [
    "df.head(10)"
   ]
  },
  {
   "cell_type": "code",
   "execution_count": null,
   "metadata": {
    "collapsed": true
   },
   "outputs": [],
   "source": []
  }
 ],
 "metadata": {
  "anaconda-cloud": {},
  "kernelspec": {
   "display_name": "Python 3",
   "language": "python",
   "name": "python3"
  },
  "language_info": {
   "codemirror_mode": {
    "name": "ipython",
    "version": 3
   },
   "file_extension": ".py",
   "mimetype": "text/x-python",
   "name": "python",
   "nbconvert_exporter": "python",
   "pygments_lexer": "ipython3",
   "version": "3.6.5"
  },
  "toc": {
   "colors": {
    "hover_highlight": "#DAA520",
    "running_highlight": "#FF0000",
    "selected_highlight": "#FFD700"
   },
   "moveMenuLeft": true,
   "nav_menu": {
    "height": "58px",
    "width": "251px"
   },
   "navigate_menu": true,
   "number_sections": true,
   "sideBar": true,
   "threshold": 4,
   "toc_cell": false,
   "toc_section_display": "block",
   "toc_window_display": false,
   "widenNotebook": false
  }
 },
 "nbformat": 4,
 "nbformat_minor": 2
}
