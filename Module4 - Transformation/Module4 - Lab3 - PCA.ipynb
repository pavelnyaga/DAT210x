{
 "cells": [
  {
   "cell_type": "markdown",
   "metadata": {},
   "source": [
    "# DAT210x - Programming with Python for DS"
   ]
  },
  {
   "cell_type": "markdown",
   "metadata": {},
   "source": [
    "### Module4- Lab3"
   ]
  },
  {
   "cell_type": "code",
   "execution_count": 23,
   "metadata": {
    "collapsed": true
   },
   "outputs": [],
   "source": [
    "import math\n",
    "import pandas as pd\n",
    "import matplotlib.pyplot as plt\n",
    "import matplotlib\n",
    "\n",
    "from sklearn import preprocessing"
   ]
  },
  {
   "cell_type": "code",
   "execution_count": 24,
   "metadata": {
    "collapsed": true
   },
   "outputs": [],
   "source": [
    "# Look pretty...\n",
    "\n",
    "# matplotlib.style.use('ggplot')\n",
    "plt.style.use('ggplot')"
   ]
  },
  {
   "cell_type": "markdown",
   "metadata": {},
   "source": [
    "### Some Boilerplate Code"
   ]
  },
  {
   "cell_type": "markdown",
   "metadata": {
    "collapsed": true
   },
   "source": [
    "For your convenience, we've included some boilerplate code here which will help you out. You aren't expected to know how to write this code on your own at this point, but it'll assist with your visualizations. We've added some notes to the code in case you're interested in knowing what it's doing:"
   ]
  },
  {
   "cell_type": "markdown",
   "metadata": {
    "collapsed": true
   },
   "source": [
    "### A Note on SKLearn's `.transform()` calls:"
   ]
  },
  {
   "cell_type": "markdown",
   "metadata": {},
   "source": [
    "Any time you perform a transformation on your data, you lose the column header names because the output of SciKit-Learn's `.transform()` method is an NDArray and not a daraframe.\n",
    "\n",
    "This actually makes a lot of sense because there are essentially two types of transformations:\n",
    "- Those that adjust the scale of your features, and\n",
    "- Those that change alter the number of features, perhaps even changing their values entirely.\n",
    "\n",
    "An example of adjusting the scale of a feature would be changing centimeters to inches. Changing the feature entirely would be like using PCA to reduce 300 columns to 30. In either case, the original column's units have either been altered or no longer exist at all, so it's up to you to assign names to your columns after any transformation, if you'd like to store the resulting NDArray back into a dataframe."
   ]
  },
  {
   "cell_type": "code",
   "execution_count": 25,
   "metadata": {
    "collapsed": true
   },
   "outputs": [],
   "source": [
    "def scaleFeaturesDF(df):\n",
    "    # Feature scaling is a type of transformation that only changes the\n",
    "    # scale, but not number of features. Because of this, we can still\n",
    "    # use the original dataset's column names... so long as we keep in\n",
    "    # mind that the _units_ have been altered:\n",
    "\n",
    "    scaled = preprocessing.StandardScaler().fit_transform(df)\n",
    "    scaled = pd.DataFrame(scaled, columns=df.columns)\n",
    "    \n",
    "    print(\"New Variances:\\n\", scaled.var())\n",
    "    print(\"New Describe:\\n\", scaled.describe())\n",
    "    return scaled"
   ]
  },
  {
   "cell_type": "markdown",
   "metadata": {
    "collapsed": true
   },
   "source": [
    "SKLearn contains many methods for transforming your features by scaling them, a type of pre-processing):\n",
    "    - `RobustScaler`\n",
    "    - `Normalizer`\n",
    "    - `MinMaxScaler`\n",
    "    - `MaxAbsScaler`\n",
    "    - `StandardScaler`\n",
    "    - ...\n",
    "\n",
    "http://scikit-learn.org/stable/modules/classes.html#module-sklearn.preprocessing\n",
    "\n",
    "However in order to be effective at PCA, there are a few requirements that must be met, and which will drive the selection of your scaler. PCA requires your data is standardized -- in other words, it's _mean_ should equal 0, and it should have unit variance.\n",
    "\n",
    "SKLearn's regular `Normalizer()` doesn't zero out the mean of your data, it only clamps it, so it could be inappropriate to use depending on your data. `MinMaxScaler` and `MaxAbsScaler` both fail to set a unit variance, so you won't be using them here either. `RobustScaler` can work, again depending on your data (watch for outliers!). So for this assignment, you're going to use the `StandardScaler`. Get familiar with it by visiting these two websites:\n",
    "\n",
    "- http://scikit-learn.org/stable/modules/preprocessing.html#preprocessing-scaler\n",
    "- http://scikit-learn.org/stable/modules/generated/sklearn.preprocessing.StandardScaler.html#sklearn.preprocessing.StandardScaler"
   ]
  },
  {
   "cell_type": "markdown",
   "metadata": {},
   "source": [
    "Lastly, some code to help with visualizations:"
   ]
  },
  {
   "cell_type": "code",
   "execution_count": 26,
   "metadata": {
    "collapsed": true
   },
   "outputs": [],
   "source": [
    "def drawVectors(transformed_features, components_, columns, plt, scaled):\n",
    "    if not scaled:\n",
    "        return plt.axes() # No cheating ;-)\n",
    "\n",
    "    num_columns = len(columns)\n",
    "\n",
    "    # This funtion will project your *original* feature (columns)\n",
    "    # onto your principal component feature-space, so that you can\n",
    "    # visualize how \"important\" each one was in the\n",
    "    # multi-dimensional scaling\n",
    "\n",
    "    # Scale the principal components by the max value in\n",
    "    # the transformed set belonging to that component\n",
    "    xvector = components_[0] * max(transformed_features[:,0])\n",
    "    yvector = components_[1] * max(transformed_features[:,1])\n",
    "\n",
    "    ## visualize projections\n",
    "\n",
    "    # Sort each column by it's length. These are your *original*\n",
    "    # columns, not the principal components.\n",
    "    important_features = { columns[i] : math.sqrt(xvector[i]**2 + yvector[i]**2) for i in range(num_columns) }\n",
    "    important_features = sorted(zip(important_features.values(), important_features.keys()), reverse=True)\n",
    "    print(\"Features by importance:\\n\", important_features)\n",
    "\n",
    "    ax = plt.axes()\n",
    "\n",
    "    for i in range(num_columns):\n",
    "        # Use an arrow to project each original feature as a\n",
    "        # labeled vector on your principal component axes\n",
    "        plt.arrow(0, 0, xvector[i], yvector[i], color='b', width=0.0005, head_width=0.02, alpha=0.75)\n",
    "        plt.text(xvector[i]*1.2, yvector[i]*1.2, list(columns)[i], color='b', alpha=0.75)\n",
    "\n",
    "    return ax"
   ]
  },
  {
   "cell_type": "markdown",
   "metadata": {},
   "source": [
    "### And Now, The Assignment"
   ]
  },
  {
   "cell_type": "code",
   "execution_count": 27,
   "metadata": {
    "collapsed": true
   },
   "outputs": [],
   "source": [
    "# Do * NOT * alter this line, until instructed!\n",
    "scaleFeatures = True"
   ]
  },
  {
   "cell_type": "markdown",
   "metadata": {},
   "source": [
    "Load up the dataset specified on the lab instructions page and remove any and all _rows_ that have a NaN in them. You should be a pro at this by now ;-)\n",
    "\n",
    "**QUESTION**: Should the `id` column be included in your dataset as a feature?"
   ]
  },
  {
   "cell_type": "code",
   "execution_count": 28,
   "metadata": {},
   "outputs": [
    {
     "data": {
      "text/html": [
       "<div>\n",
       "<style>\n",
       "    .dataframe thead tr:only-child th {\n",
       "        text-align: right;\n",
       "    }\n",
       "\n",
       "    .dataframe thead th {\n",
       "        text-align: left;\n",
       "    }\n",
       "\n",
       "    .dataframe tbody tr th {\n",
       "        vertical-align: top;\n",
       "    }\n",
       "</style>\n",
       "<table border=\"1\" class=\"dataframe\">\n",
       "  <thead>\n",
       "    <tr style=\"text-align: right;\">\n",
       "      <th></th>\n",
       "      <th>id</th>\n",
       "      <th>age</th>\n",
       "      <th>bp</th>\n",
       "      <th>sg</th>\n",
       "      <th>al</th>\n",
       "      <th>su</th>\n",
       "      <th>rbc</th>\n",
       "      <th>pc</th>\n",
       "      <th>pcc</th>\n",
       "      <th>ba</th>\n",
       "      <th>...</th>\n",
       "      <th>pcv</th>\n",
       "      <th>wc</th>\n",
       "      <th>rc</th>\n",
       "      <th>htn</th>\n",
       "      <th>dm</th>\n",
       "      <th>cad</th>\n",
       "      <th>appet</th>\n",
       "      <th>pe</th>\n",
       "      <th>ane</th>\n",
       "      <th>classification</th>\n",
       "    </tr>\n",
       "  </thead>\n",
       "  <tbody>\n",
       "    <tr>\n",
       "      <th>3</th>\n",
       "      <td>3</td>\n",
       "      <td>48.0</td>\n",
       "      <td>70.0</td>\n",
       "      <td>1.005</td>\n",
       "      <td>4.0</td>\n",
       "      <td>0.0</td>\n",
       "      <td>normal</td>\n",
       "      <td>abnormal</td>\n",
       "      <td>present</td>\n",
       "      <td>notpresent</td>\n",
       "      <td>...</td>\n",
       "      <td>32</td>\n",
       "      <td>6700</td>\n",
       "      <td>3.9</td>\n",
       "      <td>yes</td>\n",
       "      <td>no</td>\n",
       "      <td>no</td>\n",
       "      <td>poor</td>\n",
       "      <td>yes</td>\n",
       "      <td>yes</td>\n",
       "      <td>ckd</td>\n",
       "    </tr>\n",
       "    <tr>\n",
       "      <th>9</th>\n",
       "      <td>9</td>\n",
       "      <td>53.0</td>\n",
       "      <td>90.0</td>\n",
       "      <td>1.020</td>\n",
       "      <td>2.0</td>\n",
       "      <td>0.0</td>\n",
       "      <td>abnormal</td>\n",
       "      <td>abnormal</td>\n",
       "      <td>present</td>\n",
       "      <td>notpresent</td>\n",
       "      <td>...</td>\n",
       "      <td>29</td>\n",
       "      <td>12100</td>\n",
       "      <td>3.7</td>\n",
       "      <td>yes</td>\n",
       "      <td>yes</td>\n",
       "      <td>no</td>\n",
       "      <td>poor</td>\n",
       "      <td>no</td>\n",
       "      <td>yes</td>\n",
       "      <td>ckd</td>\n",
       "    </tr>\n",
       "    <tr>\n",
       "      <th>11</th>\n",
       "      <td>11</td>\n",
       "      <td>63.0</td>\n",
       "      <td>70.0</td>\n",
       "      <td>1.010</td>\n",
       "      <td>3.0</td>\n",
       "      <td>0.0</td>\n",
       "      <td>abnormal</td>\n",
       "      <td>abnormal</td>\n",
       "      <td>present</td>\n",
       "      <td>notpresent</td>\n",
       "      <td>...</td>\n",
       "      <td>32</td>\n",
       "      <td>4500</td>\n",
       "      <td>3.8</td>\n",
       "      <td>yes</td>\n",
       "      <td>yes</td>\n",
       "      <td>no</td>\n",
       "      <td>poor</td>\n",
       "      <td>yes</td>\n",
       "      <td>no</td>\n",
       "      <td>ckd</td>\n",
       "    </tr>\n",
       "    <tr>\n",
       "      <th>14</th>\n",
       "      <td>14</td>\n",
       "      <td>68.0</td>\n",
       "      <td>80.0</td>\n",
       "      <td>1.010</td>\n",
       "      <td>3.0</td>\n",
       "      <td>2.0</td>\n",
       "      <td>normal</td>\n",
       "      <td>abnormal</td>\n",
       "      <td>present</td>\n",
       "      <td>present</td>\n",
       "      <td>...</td>\n",
       "      <td>16</td>\n",
       "      <td>11000</td>\n",
       "      <td>2.6</td>\n",
       "      <td>yes</td>\n",
       "      <td>yes</td>\n",
       "      <td>yes</td>\n",
       "      <td>poor</td>\n",
       "      <td>yes</td>\n",
       "      <td>no</td>\n",
       "      <td>ckd</td>\n",
       "    </tr>\n",
       "    <tr>\n",
       "      <th>20</th>\n",
       "      <td>20</td>\n",
       "      <td>61.0</td>\n",
       "      <td>80.0</td>\n",
       "      <td>1.015</td>\n",
       "      <td>2.0</td>\n",
       "      <td>0.0</td>\n",
       "      <td>abnormal</td>\n",
       "      <td>abnormal</td>\n",
       "      <td>notpresent</td>\n",
       "      <td>notpresent</td>\n",
       "      <td>...</td>\n",
       "      <td>24</td>\n",
       "      <td>9200</td>\n",
       "      <td>3.2</td>\n",
       "      <td>yes</td>\n",
       "      <td>yes</td>\n",
       "      <td>yes</td>\n",
       "      <td>poor</td>\n",
       "      <td>yes</td>\n",
       "      <td>yes</td>\n",
       "      <td>ckd</td>\n",
       "    </tr>\n",
       "  </tbody>\n",
       "</table>\n",
       "<p>5 rows × 26 columns</p>\n",
       "</div>"
      ],
      "text/plain": [
       "    id   age    bp     sg   al   su       rbc        pc         pcc  \\\n",
       "3    3  48.0  70.0  1.005  4.0  0.0    normal  abnormal     present   \n",
       "9    9  53.0  90.0  1.020  2.0  0.0  abnormal  abnormal     present   \n",
       "11  11  63.0  70.0  1.010  3.0  0.0  abnormal  abnormal     present   \n",
       "14  14  68.0  80.0  1.010  3.0  2.0    normal  abnormal     present   \n",
       "20  20  61.0  80.0  1.015  2.0  0.0  abnormal  abnormal  notpresent   \n",
       "\n",
       "            ba      ...        pcv     wc   rc  htn   dm  cad appet   pe  ane  \\\n",
       "3   notpresent      ...         32   6700  3.9  yes   no   no  poor  yes  yes   \n",
       "9   notpresent      ...         29  12100  3.7  yes  yes   no  poor   no  yes   \n",
       "11  notpresent      ...         32   4500  3.8  yes  yes   no  poor  yes   no   \n",
       "14     present      ...         16  11000  2.6  yes  yes  yes  poor  yes   no   \n",
       "20  notpresent      ...         24   9200  3.2  yes  yes  yes  poor  yes  yes   \n",
       "\n",
       "   classification  \n",
       "3             ckd  \n",
       "9             ckd  \n",
       "11            ckd  \n",
       "14            ckd  \n",
       "20            ckd  \n",
       "\n",
       "[5 rows x 26 columns]"
      ]
     },
     "execution_count": 28,
     "metadata": {},
     "output_type": "execute_result"
    }
   ],
   "source": [
    "df = pd.read_csv('./Datasets/kidney_disease.csv', sep=',') #, index_col=0)\n",
    "df.head(5)\n",
    "df = df.dropna(axis=0)\n",
    "df.head(5)"
   ]
  },
  {
   "cell_type": "markdown",
   "metadata": {},
   "source": [
    "Let's build some color-coded labels; the actual label feature will be removed prior to executing PCA, since it's unsupervised. You're only labeling by color so you can see the effects of PCA:"
   ]
  },
  {
   "cell_type": "code",
   "execution_count": 29,
   "metadata": {
    "collapsed": true
   },
   "outputs": [],
   "source": [
    "labels = ['red' if i=='ckd' else 'green' for i in df.classification]"
   ]
  },
  {
   "cell_type": "markdown",
   "metadata": {
    "collapsed": true
   },
   "source": [
    "Use an indexer to select only the following columns: `['bgr','wc','rc']`"
   ]
  },
  {
   "cell_type": "code",
   "execution_count": 30,
   "metadata": {},
   "outputs": [
    {
     "data": {
      "text/plain": [
       "age     float64\n",
       "bp      float64\n",
       "sg      float64\n",
       "al      float64\n",
       "su      float64\n",
       "bgr     float64\n",
       "bu      float64\n",
       "sc      float64\n",
       "sod     float64\n",
       "pot     float64\n",
       "hemo    float64\n",
       "pcv      object\n",
       "wc       object\n",
       "rc       object\n",
       "dtype: object"
      ]
     },
     "execution_count": 30,
     "metadata": {},
     "output_type": "execute_result"
    }
   ],
   "source": [
    "#df = df.loc[:, ['bgr','wc','rc']]\n",
    "df = df.drop(['id', 'classification', 'rbc', 'pc', 'pcc', 'ba', 'htn', 'dm', 'cad', 'appet', 'pe', 'ane'], axis=1)\n",
    "df.describe()\n",
    "df.dtypes\n"
   ]
  },
  {
   "cell_type": "markdown",
   "metadata": {},
   "source": [
    "Either take a look at the dataset's webpage in the attribute info section of UCI's [Chronic Kidney Disease]() page,: https://archive.ics.uci.edu/ml/datasets/Chronic_Kidney_Disease or alternatively, you can actually look at the first few rows of your dataframe using `.head()`. What kind of data type should these three columns be? Compare what you see with the results when you print out your dataframe's `dtypes`.\n",
    "\n",
    "If Pandas did not properly detect and convert your columns to the data types you expected, use an appropriate command to coerce these features to the right type."
   ]
  },
  {
   "cell_type": "code",
   "execution_count": 31,
   "metadata": {
    "collapsed": true
   },
   "outputs": [],
   "source": [
    "df.wc = pd.to_numeric(df.wc, errors='coerce')\n",
    "df.rc = pd.to_numeric(df.rc, errors='coerce')\n",
    "df.dtypes\n",
    "df = df.dropna(axis=0)"
   ]
  },
  {
   "cell_type": "markdown",
   "metadata": {},
   "source": [
    "PCA Operates based on variance. The variable with the greatest variance will dominate. Examine your data using a command that will check the variance of every feature in your dataset, and then print out the results. Also print out the results of running `.describe` on your dataset.\n",
    "\n",
    "_Hint:_ If you do not see all three variables: `'bgr'`, `'wc'`, and `'rc'`, then it's likely you probably did not complete the previous step properly."
   ]
  },
  {
   "cell_type": "code",
   "execution_count": 32,
   "metadata": {},
   "outputs": [
    {
     "name": "stdout",
     "output_type": "stream",
     "text": [
      "age     2.406297e+02\n",
      "bp      1.248891e+02\n",
      "sg      3.023865e-05\n",
      "al      1.996936e+00\n",
      "su      6.616141e-01\n",
      "bgr     4.217182e+03\n",
      "bu      2.246322e+03\n",
      "sc      9.471717e+00\n",
      "sod     5.609143e+01\n",
      "pot     1.208501e+01\n",
      "hemo    8.307100e+00\n",
      "wc      9.777380e+06\n",
      "rc      1.039104e+00\n",
      "dtype: float64\n"
     ]
    },
    {
     "data": {
      "text/html": [
       "<div>\n",
       "<style>\n",
       "    .dataframe thead tr:only-child th {\n",
       "        text-align: right;\n",
       "    }\n",
       "\n",
       "    .dataframe thead th {\n",
       "        text-align: left;\n",
       "    }\n",
       "\n",
       "    .dataframe tbody tr th {\n",
       "        vertical-align: top;\n",
       "    }\n",
       "</style>\n",
       "<table border=\"1\" class=\"dataframe\">\n",
       "  <thead>\n",
       "    <tr style=\"text-align: right;\">\n",
       "      <th></th>\n",
       "      <th>age</th>\n",
       "      <th>bp</th>\n",
       "      <th>sg</th>\n",
       "      <th>al</th>\n",
       "      <th>su</th>\n",
       "      <th>bgr</th>\n",
       "      <th>bu</th>\n",
       "      <th>sc</th>\n",
       "      <th>sod</th>\n",
       "      <th>pot</th>\n",
       "      <th>hemo</th>\n",
       "      <th>wc</th>\n",
       "      <th>rc</th>\n",
       "    </tr>\n",
       "  </thead>\n",
       "  <tbody>\n",
       "    <tr>\n",
       "      <th>count</th>\n",
       "      <td>158.000000</td>\n",
       "      <td>158.000000</td>\n",
       "      <td>158.000000</td>\n",
       "      <td>158.000000</td>\n",
       "      <td>158.000000</td>\n",
       "      <td>158.000000</td>\n",
       "      <td>158.000000</td>\n",
       "      <td>158.000000</td>\n",
       "      <td>158.000000</td>\n",
       "      <td>158.000000</td>\n",
       "      <td>158.000000</td>\n",
       "      <td>158.000000</td>\n",
       "      <td>158.000000</td>\n",
       "    </tr>\n",
       "    <tr>\n",
       "      <th>mean</th>\n",
       "      <td>49.563291</td>\n",
       "      <td>74.050633</td>\n",
       "      <td>1.019873</td>\n",
       "      <td>0.797468</td>\n",
       "      <td>0.253165</td>\n",
       "      <td>131.341772</td>\n",
       "      <td>52.575949</td>\n",
       "      <td>2.188608</td>\n",
       "      <td>138.848101</td>\n",
       "      <td>4.636709</td>\n",
       "      <td>13.687342</td>\n",
       "      <td>8475.949367</td>\n",
       "      <td>4.891772</td>\n",
       "    </tr>\n",
       "    <tr>\n",
       "      <th>std</th>\n",
       "      <td>15.512244</td>\n",
       "      <td>11.175381</td>\n",
       "      <td>0.005499</td>\n",
       "      <td>1.413130</td>\n",
       "      <td>0.813397</td>\n",
       "      <td>64.939832</td>\n",
       "      <td>47.395382</td>\n",
       "      <td>3.077615</td>\n",
       "      <td>7.489421</td>\n",
       "      <td>3.476351</td>\n",
       "      <td>2.882204</td>\n",
       "      <td>3126.880181</td>\n",
       "      <td>1.019364</td>\n",
       "    </tr>\n",
       "    <tr>\n",
       "      <th>min</th>\n",
       "      <td>6.000000</td>\n",
       "      <td>50.000000</td>\n",
       "      <td>1.005000</td>\n",
       "      <td>0.000000</td>\n",
       "      <td>0.000000</td>\n",
       "      <td>70.000000</td>\n",
       "      <td>10.000000</td>\n",
       "      <td>0.400000</td>\n",
       "      <td>111.000000</td>\n",
       "      <td>2.500000</td>\n",
       "      <td>3.100000</td>\n",
       "      <td>3800.000000</td>\n",
       "      <td>2.100000</td>\n",
       "    </tr>\n",
       "    <tr>\n",
       "      <th>25%</th>\n",
       "      <td>39.250000</td>\n",
       "      <td>60.000000</td>\n",
       "      <td>1.020000</td>\n",
       "      <td>0.000000</td>\n",
       "      <td>0.000000</td>\n",
       "      <td>97.000000</td>\n",
       "      <td>26.000000</td>\n",
       "      <td>0.700000</td>\n",
       "      <td>135.000000</td>\n",
       "      <td>3.700000</td>\n",
       "      <td>12.600000</td>\n",
       "      <td>6525.000000</td>\n",
       "      <td>4.500000</td>\n",
       "    </tr>\n",
       "    <tr>\n",
       "      <th>50%</th>\n",
       "      <td>50.500000</td>\n",
       "      <td>80.000000</td>\n",
       "      <td>1.020000</td>\n",
       "      <td>0.000000</td>\n",
       "      <td>0.000000</td>\n",
       "      <td>115.500000</td>\n",
       "      <td>39.500000</td>\n",
       "      <td>1.100000</td>\n",
       "      <td>139.000000</td>\n",
       "      <td>4.500000</td>\n",
       "      <td>14.250000</td>\n",
       "      <td>7800.000000</td>\n",
       "      <td>4.950000</td>\n",
       "    </tr>\n",
       "    <tr>\n",
       "      <th>75%</th>\n",
       "      <td>60.000000</td>\n",
       "      <td>80.000000</td>\n",
       "      <td>1.025000</td>\n",
       "      <td>1.000000</td>\n",
       "      <td>0.000000</td>\n",
       "      <td>131.750000</td>\n",
       "      <td>49.750000</td>\n",
       "      <td>1.600000</td>\n",
       "      <td>144.000000</td>\n",
       "      <td>4.900000</td>\n",
       "      <td>15.775000</td>\n",
       "      <td>9775.000000</td>\n",
       "      <td>5.600000</td>\n",
       "    </tr>\n",
       "    <tr>\n",
       "      <th>max</th>\n",
       "      <td>83.000000</td>\n",
       "      <td>110.000000</td>\n",
       "      <td>1.025000</td>\n",
       "      <td>4.000000</td>\n",
       "      <td>5.000000</td>\n",
       "      <td>490.000000</td>\n",
       "      <td>309.000000</td>\n",
       "      <td>15.200000</td>\n",
       "      <td>150.000000</td>\n",
       "      <td>47.000000</td>\n",
       "      <td>17.800000</td>\n",
       "      <td>26400.000000</td>\n",
       "      <td>8.000000</td>\n",
       "    </tr>\n",
       "  </tbody>\n",
       "</table>\n",
       "</div>"
      ],
      "text/plain": [
       "              age          bp          sg          al          su         bgr  \\\n",
       "count  158.000000  158.000000  158.000000  158.000000  158.000000  158.000000   \n",
       "mean    49.563291   74.050633    1.019873    0.797468    0.253165  131.341772   \n",
       "std     15.512244   11.175381    0.005499    1.413130    0.813397   64.939832   \n",
       "min      6.000000   50.000000    1.005000    0.000000    0.000000   70.000000   \n",
       "25%     39.250000   60.000000    1.020000    0.000000    0.000000   97.000000   \n",
       "50%     50.500000   80.000000    1.020000    0.000000    0.000000  115.500000   \n",
       "75%     60.000000   80.000000    1.025000    1.000000    0.000000  131.750000   \n",
       "max     83.000000  110.000000    1.025000    4.000000    5.000000  490.000000   \n",
       "\n",
       "               bu          sc         sod         pot        hemo  \\\n",
       "count  158.000000  158.000000  158.000000  158.000000  158.000000   \n",
       "mean    52.575949    2.188608  138.848101    4.636709   13.687342   \n",
       "std     47.395382    3.077615    7.489421    3.476351    2.882204   \n",
       "min     10.000000    0.400000  111.000000    2.500000    3.100000   \n",
       "25%     26.000000    0.700000  135.000000    3.700000   12.600000   \n",
       "50%     39.500000    1.100000  139.000000    4.500000   14.250000   \n",
       "75%     49.750000    1.600000  144.000000    4.900000   15.775000   \n",
       "max    309.000000   15.200000  150.000000   47.000000   17.800000   \n",
       "\n",
       "                 wc          rc  \n",
       "count    158.000000  158.000000  \n",
       "mean    8475.949367    4.891772  \n",
       "std     3126.880181    1.019364  \n",
       "min     3800.000000    2.100000  \n",
       "25%     6525.000000    4.500000  \n",
       "50%     7800.000000    4.950000  \n",
       "75%     9775.000000    5.600000  \n",
       "max    26400.000000    8.000000  "
      ]
     },
     "execution_count": 32,
     "metadata": {},
     "output_type": "execute_result"
    }
   ],
   "source": [
    "print(df.var(axis = 0))\n",
    "df.describe()"
   ]
  },
  {
   "cell_type": "markdown",
   "metadata": {},
   "source": [
    "Below, we assume your dataframe's variable is named `df`. If it isn't, make the appropriate changes. But do not alter the code in `scaleFeaturesDF()` just yet!"
   ]
  },
  {
   "cell_type": "code",
   "execution_count": 33,
   "metadata": {},
   "outputs": [
    {
     "name": "stdout",
     "output_type": "stream",
     "text": [
      "New Variances:\n",
      " age     1.006369\n",
      "bp      1.006369\n",
      "sg      1.006369\n",
      "al      1.006369\n",
      "su      1.006369\n",
      "bgr     1.006369\n",
      "bu      1.006369\n",
      "sc      1.006369\n",
      "sod     1.006369\n",
      "pot     1.006369\n",
      "hemo    1.006369\n",
      "pcv     1.006369\n",
      "wc      1.006369\n",
      "rc      1.006369\n",
      "dtype: float64\n",
      "New Describe:\n",
      "                 age            bp            sg            al            su  \\\n",
      "count  1.580000e+02  1.580000e+02  1.580000e+02  1.580000e+02  1.580000e+02   \n",
      "mean   1.032929e-16  7.406171e-16 -1.624580e-15 -7.757508e-16 -2.108018e-18   \n",
      "std    1.003180e+00  1.003180e+00  1.003180e+00  1.003180e+00  1.003180e+00   \n",
      "min   -2.817246e+00 -2.158952e+00 -2.713365e+00 -5.661221e-01 -3.122333e-01   \n",
      "25%   -6.669624e-01 -1.261282e+00  2.309247e-02 -5.661221e-01 -3.122333e-01   \n",
      "50%    6.057713e-02  5.340564e-01  2.309247e-02 -5.661221e-01 -3.122333e-01   \n",
      "75%    6.749439e-01  5.340564e-01  9.352451e-01  1.437770e-01 -3.122333e-01   \n",
      "max    2.162358e+00  3.227064e+00  9.352451e-01  2.273474e+00  5.854375e+00   \n",
      "\n",
      "                bgr            bu            sc           sod           pot  \\\n",
      "count  1.580000e+02  1.580000e+02  1.580000e+02  1.580000e+02  1.580000e+02   \n",
      "mean  -9.755075e-17 -2.578809e-16  7.869935e-17  8.119384e-16  4.321438e-17   \n",
      "std    1.003180e+00  1.003180e+00  1.003180e+00  1.003180e+00  1.003180e+00   \n",
      "min   -9.475974e-01 -9.011706e-01 -5.830146e-01 -3.730148e+00 -6.165957e-01   \n",
      "25%   -5.305059e-01 -5.625116e-01 -4.852266e-01 -5.154386e-01 -2.703085e-01   \n",
      "50%   -2.447210e-01 -2.767680e-01 -3.548426e-01  2.034626e-02 -3.945044e-02   \n",
      "75%    6.306235e-03 -5.981458e-02 -1.918626e-01  6.900774e-01  7.597862e-02   \n",
      "max    5.540492e+00  5.427520e+00  4.241194e+00  1.493755e+00  1.222489e+01   \n",
      "\n",
      "               hemo           pcv            wc            rc  \n",
      "count  1.580000e+02  1.580000e+02  1.580000e+02  1.580000e+02  \n",
      "mean   2.051805e-16 -2.220446e-16  9.345548e-17  1.068063e-16  \n",
      "std    1.003180e+00  1.003180e+00  1.003180e+00  1.003180e+00  \n",
      "min   -3.685029e+00 -3.626776e+00 -1.500159e+00 -2.747446e+00  \n",
      "25%   -3.784601e-01 -4.867313e-01 -6.259123e-01 -3.855519e-01  \n",
      "50%    1.958388e-01  2.294192e-01 -2.168611e-01  5.730335e-02  \n",
      "75%    7.266301e-01  6.701272e-01  4.167672e-01  6.969831e-01  \n",
      "max    1.431451e+00  1.331189e+00  5.750474e+00  3.058878e+00  \n"
     ]
    }
   ],
   "source": [
    "# .. your (possible) code adjustment here ..\n",
    "if scaleFeatures: df = scaleFeaturesDF(df)"
   ]
  },
  {
   "cell_type": "markdown",
   "metadata": {},
   "source": [
    "Run PCA on your dataset, reducing it to 2 principal components. Make sure your PCA model is saved in a variable called `'pca'`, and that the results of your transformation are saved in another variable `'T'`:"
   ]
  },
  {
   "cell_type": "code",
   "execution_count": 34,
   "metadata": {},
   "outputs": [
    {
     "name": "stdout",
     "output_type": "stream",
     "text": [
      "(158, 14) (158, 2)\n"
     ]
    }
   ],
   "source": [
    "from sklearn.decomposition import PCA\n",
    "pca = PCA(n_components=2, svd_solver='full')\n",
    "pca.fit(df)\n",
    "PCA(copy=True, n_components=2, whiten=False)\n",
    "\n",
    "T = pca.transform(df)\n",
    "\n",
    "print(df.shape, T.shape)"
   ]
  },
  {
   "cell_type": "markdown",
   "metadata": {},
   "source": [
    "Now, plot the transformed data as a scatter plot. Recall that transforming the data will result in a NumPy NDArray. You can either use MatPlotLib to graph it directly, or you can convert it back to DataFrame and have Pandas do it for you.\n",
    "\n",
    "Since we've already demonstrated how to plot directly with MatPlotLib in `Module4/assignment1.ipynb`, this time we'll show you how to convert your transformed data back into to a Pandas Dataframe and have Pandas plot it from there."
   ]
  },
  {
   "cell_type": "code",
   "execution_count": 35,
   "metadata": {},
   "outputs": [
    {
     "name": "stdout",
     "output_type": "stream",
     "text": [
      "Features by importance:\n",
      " [(3.4336278896161083, 'bgr'), (3.233806932188047, 'sc'), (3.1862889655585156, 'bu'), (3.1226215240866533, 'su'), (3.0756029035694414, 'pcv'), (3.062948518962919, 'hemo'), (3.00259239563645, 'al'), (2.7990468891736593, 'sg'), (2.7327769657650536, 'rc'), (2.4238681788081027, 'sod'), (2.236506269466894, 'age'), (2.147058303747439, 'wc'), (1.7017683320956671, 'bp'), (1.0563823537406802, 'pot')]\n"
     ]
    },
    {
     "data": {
      "image/png": "[encoded data removed]",
      "text/plain": [
       "<matplotlib.figure.Figure at 0x1dc0fdefbe0>"
      ]
     },
     "metadata": {},
     "output_type": "display_data"
    }
   ],
   "source": [
    "# Since we transformed via PCA, we no longer have column names; but we know we\n",
    "# are in `principal-component` space, so we'll just define the coordinates accordingly:\n",
    "ax = drawVectors(T, pca.components_, df.columns.values, plt, scaleFeatures)\n",
    "T  = pd.DataFrame(T)\n",
    "\n",
    "T.columns = ['component1', 'component2']\n",
    "T.plot.scatter(x='component1', y='component2', marker='o', c=labels, alpha=0.75, ax=ax)\n",
    "\n",
    "plt.show()"
   ]
  },
  {
   "cell_type": "code",
   "execution_count": null,
   "metadata": {
    "collapsed": true
   },
   "outputs": [],
   "source": []
  }
 ],
 "metadata": {
  "anaconda-cloud": {},
  "kernelspec": {
   "display_name": "Python 3",
   "language": "python",
   "name": "python3"
  },
  "language_info": {
   "codemirror_mode": {
    "name": "ipython",
    "version": 3
   },
   "file_extension": ".py",
   "mimetype": "text/x-python",
   "name": "python",
   "nbconvert_exporter": "python",
   "pygments_lexer": "ipython3",
   "version": "3.6.1"
  },
  "toc": {
   "colors": {
    "hover_highlight": "#DAA520",
    "running_highlight": "#FF0000",
    "selected_highlight": "#FFD700"
   },
   "moveMenuLeft": true,
   "nav_menu": {
    "height": "58px",
    "width": "252px"
   },
   "navigate_menu": true,
   "number_sections": true,
   "sideBar": true,
   "threshold": 4,
   "toc_cell": false,
   "toc_section_display": "block",
   "toc_window_display": false,
   "widenNotebook": false
  }
 },
 "nbformat": 4,
 "nbformat_minor": 2
}
